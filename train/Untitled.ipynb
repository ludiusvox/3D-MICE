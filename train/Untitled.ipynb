{
 "cells": [
  {
   "cell_type": "code",
   "execution_count": null,
   "id": "b1ebf89a-b365-4714-813b-fffb4458e1c7",
   "metadata": {},
   "outputs": [],
   "source": [
    "from gsppy.gsp import GSP\n",
    "\n",
    "\n"
   ]
  },
  {
   "cell_type": "code",
   "execution_count": null,
   "id": "bafc450b-23af-4591-b9ca-9b921063cab4",
   "metadata": {},
   "outputs": [],
   "source": [
    "transactions=[['A','B','F','G','D'],['B','G','D'],['B','F','G','A','B'],['F','A','B','C','D'],['A','B','C','G','F','D','E']]"
   ]
  },
  {
   "cell_type": "code",
   "execution_count": null,
   "id": "ac35691b-67fb-4e87-aed7-819636b3ba45",
   "metadata": {},
   "outputs": [],
   "source": [
    "result = GSP(transactions).search(0.4)"
   ]
  },
  {
   "cell_type": "code",
   "execution_count": null,
   "id": "252eccf6-f4e0-4ce2-8eb8-f2d9b89229f0",
   "metadata": {},
   "outputs": [],
   "source": [
    "result"
   ]
  },
  {
   "cell_type": "code",
   "execution_count": null,
   "id": "29a352c0-fdc2-4c51-9cac-fc7ec2be81ad",
   "metadata": {},
   "outputs": [],
   "source": []
  }
 ],
 "metadata": {
  "kernelspec": {
   "display_name": "Python 3 (ipykernel)",
   "language": "python",
   "name": "python3"
  },
  "language_info": {
   "codemirror_mode": {
    "name": "ipython",
    "version": 3
   },
   "file_extension": ".py",
   "mimetype": "text/x-python",
   "name": "python",
   "nbconvert_exporter": "python",
   "pygments_lexer": "ipython3",
   "version": "3.9.7"
  }
 },
 "nbformat": 4,
 "nbformat_minor": 5
}
